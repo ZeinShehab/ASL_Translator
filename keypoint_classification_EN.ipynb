{
  "nbformat": 4,
  "nbformat_minor": 0,
  "metadata": {
    "kernelspec": {
      "name": "python3",
      "display_name": "Python 3.9.4 64-bit ('mpenv': conda)"
    },
    "language_info": {
      "codemirror_mode": {
        "name": "ipython",
        "version": 3
      },
      "file_extension": ".py",
      "mimetype": "text/x-python",
      "name": "python",
      "nbconvert_exporter": "python",
      "pygments_lexer": "ipython3",
      "version": "3.9.4"
    },
    "colab": {
      "name": "keypoint_classification_EN.ipynb",
      "provenance": [],
      "collapsed_sections": [],
      "toc_visible": true
    },
    "accelerator": "GPU",
    "interpreter": {
      "hash": "85b733480cc67b8cf4f7b44ea859236688838663f0d4c864dc5b1de551a5e467"
    }
  },
  "cells": [
    {
      "cell_type": "code",
      "metadata": {
        "id": "igMyGnjE9hEp"
      },
      "source": [
        "import csv\n",
        "\n",
        "import numpy as np\n",
        "import tensorflow as tf\n",
        "from sklearn.model_selection import train_test_split\n",
        "\n",
        "RANDOM_SEED = 42"
      ],
      "execution_count": 1,
      "outputs": []
    },
    {
      "cell_type": "markdown",
      "metadata": {
        "id": "t2HDvhIu9hEr"
      },
      "source": [
        "# Specify each path"
      ]
    },
    {
      "cell_type": "code",
      "metadata": {
        "id": "9NvZP2Zn9hEy"
      },
      "source": [
        "dataset = 'model/keypoint_classifier/keypoint.csv'\n",
        "model_save_path = 'model/keypoint_classifier/keypoint_classifier.hdf5'\n",
        "tflite_save_path = 'model/keypoint_classifier/keypoint_classifier.tflite'"
      ],
      "execution_count": 2,
      "outputs": []
    },
    {
      "cell_type": "markdown",
      "metadata": {
        "id": "s5oMH7x19hEz"
      },
      "source": [
        "# Set number of classes"
      ]
    },
    {
      "cell_type": "code",
      "metadata": {
        "id": "du4kodXL9hEz"
      },
      "source": [
        "NUM_CLASSES = 5"
      ],
      "execution_count": 3,
      "outputs": []
    },
    {
      "cell_type": "markdown",
      "metadata": {
        "id": "XjnL0uso9hEz"
      },
      "source": [
        "# Dataset reading"
      ]
    },
    {
      "cell_type": "code",
      "metadata": {
        "id": "QT5ZqtEz9hE0"
      },
      "source": [
        "X_dataset = np.loadtxt(dataset, delimiter=',', dtype='float32', usecols=list(range(1, (21 * 2) + 1)))"
      ],
      "execution_count": 4,
      "outputs": []
    },
    {
      "cell_type": "code",
      "metadata": {
        "id": "QmoKFsp49hE0"
      },
      "source": [
        "y_dataset = np.loadtxt(dataset, delimiter=',', dtype='int32', usecols=(0))"
      ],
      "execution_count": 5,
      "outputs": []
    },
    {
      "cell_type": "code",
      "metadata": {
        "id": "xQU7JTZ_9hE0"
      },
      "source": [
        "X_train, X_test, y_train, y_test = train_test_split(X_dataset, y_dataset, train_size=0.75, random_state=RANDOM_SEED)"
      ],
      "execution_count": 6,
      "outputs": []
    },
    {
      "cell_type": "markdown",
      "metadata": {
        "id": "mxK_lETT9hE0"
      },
      "source": [
        "# Model building"
      ]
    },
    {
      "cell_type": "code",
      "metadata": {
        "id": "vHBmUf1t9hE1"
      },
      "source": [
        "model = tf.keras.models.Sequential([\n",
        "    tf.keras.layers.Input((21 * 2, )),\n",
        "    tf.keras.layers.Dropout(0.2),\n",
        "    tf.keras.layers.Dense(20, activation='relu'),\n",
        "    tf.keras.layers.Dropout(0.4),\n",
        "    tf.keras.layers.Dense(10, activation='relu'),\n",
        "    tf.keras.layers.Dense(NUM_CLASSES, activation='softmax')\n",
        "])"
      ],
      "execution_count": 7,
      "outputs": [
        {
          "output_type": "stream",
          "name": "stdout",
          "text": [
            "WARNING:tensorflow:Please add `keras.layers.InputLayer` instead of `keras.Input` to Sequential model. `keras.Input` is intended to be used by Functional model.\n"
          ]
        }
      ]
    },
    {
      "cell_type": "code",
      "metadata": {
        "id": "ypqky9tc9hE1",
        "colab": {
          "base_uri": "https://localhost:8080/"
        },
        "outputId": "5db082bb-30e3-4110-bf63-a1ee777ecd46"
      },
      "source": [
        "model.summary()  # tf.keras.utils.plot_model(model, show_shapes=True)"
      ],
      "execution_count": 8,
      "outputs": [
        {
          "output_type": "stream",
          "name": "stdout",
          "text": [
            "Model: \"sequential\"\n_________________________________________________________________\nLayer (type)                 Output Shape              Param #   \n=================================================================\ndropout (Dropout)            (None, 42)                0         \n_________________________________________________________________\ndense (Dense)                (None, 20)                860       \n_________________________________________________________________\ndropout_1 (Dropout)          (None, 20)                0         \n_________________________________________________________________\ndense_1 (Dense)              (None, 10)                210       \n_________________________________________________________________\ndense_2 (Dense)              (None, 5)                 55        \n=================================================================\nTotal params: 1,125\nTrainable params: 1,125\nNon-trainable params: 0\n_________________________________________________________________\n"
          ]
        }
      ]
    },
    {
      "cell_type": "code",
      "metadata": {
        "id": "MbMjOflQ9hE1"
      },
      "source": [
        "# Model checkpoint callback\n",
        "cp_callback = tf.keras.callbacks.ModelCheckpoint(\n",
        "    model_save_path, verbose=1, save_weights_only=False)\n",
        "# Callback for early stopping\n",
        "es_callback = tf.keras.callbacks.EarlyStopping(patience=20, verbose=1)"
      ],
      "execution_count": 9,
      "outputs": []
    },
    {
      "cell_type": "code",
      "metadata": {
        "id": "c3Dac0M_9hE2"
      },
      "source": [
        "# Model compilation\n",
        "model.compile(\n",
        "    optimizer='adam',\n",
        "    loss='sparse_categorical_crossentropy',\n",
        "    metrics=['accuracy']\n",
        ")"
      ],
      "execution_count": 10,
      "outputs": []
    },
    {
      "cell_type": "markdown",
      "metadata": {
        "id": "7XI0j1Iu9hE2"
      },
      "source": [
        "# Model training"
      ]
    },
    {
      "cell_type": "code",
      "metadata": {
        "scrolled": true,
        "id": "WirBl-JE9hE3",
        "colab": {
          "base_uri": "https://localhost:8080/"
        },
        "outputId": "71b30ca2-8294-4d9d-8aa2-800d90d399de",
        "tags": [
          "outputPrepend"
        ]
      },
      "source": [
        "model.fit(\n",
        "    X_train,\n",
        "    y_train,\n",
        "    epochs=1000,\n",
        "    batch_size=128,\n",
        "    validation_data=(X_test, y_test),\n",
        "    callbacks=[cp_callback, es_callback]\n",
        ")"
      ],
      "execution_count": 11,
      "outputs": [
        {
          "output_type": "stream",
          "name": "stdout",
          "text": [
            "point_classifier.hdf5\n",
            "Epoch 25/1000\n",
            "37/37 [==============================] - 0s 2ms/step - loss: 0.3035 - accuracy: 0.9046 - val_loss: 0.0757 - val_accuracy: 0.9943\n",
            "\n",
            "Epoch 00025: saving model to model/keypoint_classifier\\keypoint_classifier.hdf5\n",
            "Epoch 26/1000\n",
            "37/37 [==============================] - 0s 2ms/step - loss: 0.3032 - accuracy: 0.8936 - val_loss: 0.0749 - val_accuracy: 0.9937\n",
            "\n",
            "Epoch 00026: saving model to model/keypoint_classifier\\keypoint_classifier.hdf5\n",
            "Epoch 27/1000\n",
            "37/37 [==============================] - 0s 2ms/step - loss: 0.2840 - accuracy: 0.9052 - val_loss: 0.0678 - val_accuracy: 0.9949\n",
            "\n",
            "Epoch 00027: saving model to model/keypoint_classifier\\keypoint_classifier.hdf5\n",
            "Epoch 28/1000\n",
            "37/37 [==============================] - 0s 2ms/step - loss: 0.2906 - accuracy: 0.9020 - val_loss: 0.0694 - val_accuracy: 0.9949\n",
            "\n",
            "Epoch 00028: saving model to model/keypoint_classifier\\keypoint_classifier.hdf5\n",
            "Epoch 29/1000\n",
            "37/37 [==============================] - 0s 2ms/step - loss: 0.2852 - accuracy: 0.9092 - val_loss: 0.0685 - val_accuracy: 0.9937\n",
            "\n",
            "Epoch 00029: saving model to model/keypoint_classifier\\keypoint_classifier.hdf5\n",
            "Epoch 30/1000\n",
            "37/37 [==============================] - 0s 2ms/step - loss: 0.2790 - accuracy: 0.9041 - val_loss: 0.0619 - val_accuracy: 0.9943\n",
            "\n",
            "Epoch 00030: saving model to model/keypoint_classifier\\keypoint_classifier.hdf5\n",
            "Epoch 31/1000\n",
            "37/37 [==============================] - 0s 2ms/step - loss: 0.2814 - accuracy: 0.9077 - val_loss: 0.0630 - val_accuracy: 0.9943\n",
            "\n",
            "Epoch 00031: saving model to model/keypoint_classifier\\keypoint_classifier.hdf5\n",
            "Epoch 32/1000\n",
            "37/37 [==============================] - 0s 2ms/step - loss: 0.2643 - accuracy: 0.9141 - val_loss: 0.0578 - val_accuracy: 0.9943\n",
            "\n",
            "Epoch 00032: saving model to model/keypoint_classifier\\keypoint_classifier.hdf5\n",
            "Epoch 33/1000\n",
            "37/37 [==============================] - 0s 2ms/step - loss: 0.2545 - accuracy: 0.9118 - val_loss: 0.0568 - val_accuracy: 0.9956\n",
            "\n",
            "Epoch 00033: saving model to model/keypoint_classifier\\keypoint_classifier.hdf5\n",
            "Epoch 34/1000\n",
            "37/37 [==============================] - 0s 2ms/step - loss: 0.2711 - accuracy: 0.9105 - val_loss: 0.0566 - val_accuracy: 0.9962\n",
            "\n",
            "Epoch 00034: saving model to model/keypoint_classifier\\keypoint_classifier.hdf5\n",
            "Epoch 35/1000\n",
            "37/37 [==============================] - 0s 2ms/step - loss: 0.2616 - accuracy: 0.9122 - val_loss: 0.0563 - val_accuracy: 0.9949\n",
            "\n",
            "Epoch 00035: saving model to model/keypoint_classifier\\keypoint_classifier.hdf5\n",
            "Epoch 36/1000\n",
            "37/37 [==============================] - 0s 2ms/step - loss: 0.2584 - accuracy: 0.9152 - val_loss: 0.0522 - val_accuracy: 0.9943\n",
            "\n",
            "Epoch 00036: saving model to model/keypoint_classifier\\keypoint_classifier.hdf5\n",
            "Epoch 37/1000\n",
            "37/37 [==============================] - 0s 2ms/step - loss: 0.2486 - accuracy: 0.9194 - val_loss: 0.0496 - val_accuracy: 0.9956\n",
            "\n",
            "Epoch 00037: saving model to model/keypoint_classifier\\keypoint_classifier.hdf5\n",
            "Epoch 38/1000\n",
            "37/37 [==============================] - 0s 2ms/step - loss: 0.2497 - accuracy: 0.9173 - val_loss: 0.0517 - val_accuracy: 0.9949\n",
            "\n",
            "Epoch 00038: saving model to model/keypoint_classifier\\keypoint_classifier.hdf5\n",
            "Epoch 39/1000\n",
            "37/37 [==============================] - 0s 2ms/step - loss: 0.2402 - accuracy: 0.9219 - val_loss: 0.0490 - val_accuracy: 0.9949\n",
            "\n",
            "Epoch 00039: saving model to model/keypoint_classifier\\keypoint_classifier.hdf5\n",
            "Epoch 40/1000\n",
            "37/37 [==============================] - 0s 2ms/step - loss: 0.2402 - accuracy: 0.9209 - val_loss: 0.0482 - val_accuracy: 0.9949\n",
            "\n",
            "Epoch 00040: saving model to model/keypoint_classifier\\keypoint_classifier.hdf5\n",
            "Epoch 41/1000\n",
            "37/37 [==============================] - 0s 2ms/step - loss: 0.2402 - accuracy: 0.9177 - val_loss: 0.0457 - val_accuracy: 0.9968\n",
            "\n",
            "Epoch 00041: saving model to model/keypoint_classifier\\keypoint_classifier.hdf5\n",
            "Epoch 42/1000\n",
            "37/37 [==============================] - 0s 1ms/step - loss: 0.2357 - accuracy: 0.9200 - val_loss: 0.0455 - val_accuracy: 0.9968\n",
            "\n",
            "Epoch 00042: saving model to model/keypoint_classifier\\keypoint_classifier.hdf5\n",
            "Epoch 43/1000\n",
            "37/37 [==============================] - 0s 2ms/step - loss: 0.2385 - accuracy: 0.9211 - val_loss: 0.0440 - val_accuracy: 0.9949\n",
            "\n",
            "Epoch 00043: saving model to model/keypoint_classifier\\keypoint_classifier.hdf5\n",
            "Epoch 44/1000\n",
            "37/37 [==============================] - 0s 1ms/step - loss: 0.2403 - accuracy: 0.9185 - val_loss: 0.0456 - val_accuracy: 0.9949\n",
            "\n",
            "Epoch 00044: saving model to model/keypoint_classifier\\keypoint_classifier.hdf5\n",
            "Epoch 45/1000\n",
            "37/37 [==============================] - 0s 2ms/step - loss: 0.2292 - accuracy: 0.9266 - val_loss: 0.0435 - val_accuracy: 0.9968\n",
            "\n",
            "Epoch 00045: saving model to model/keypoint_classifier\\keypoint_classifier.hdf5\n",
            "Epoch 46/1000\n",
            "37/37 [==============================] - 0s 2ms/step - loss: 0.2309 - accuracy: 0.9223 - val_loss: 0.0407 - val_accuracy: 0.9943\n",
            "\n",
            "Epoch 00046: saving model to model/keypoint_classifier\\keypoint_classifier.hdf5\n",
            "Epoch 47/1000\n",
            "37/37 [==============================] - 0s 2ms/step - loss: 0.2344 - accuracy: 0.9200 - val_loss: 0.0409 - val_accuracy: 0.9949\n",
            "\n",
            "Epoch 00047: saving model to model/keypoint_classifier\\keypoint_classifier.hdf5\n",
            "Epoch 48/1000\n",
            "37/37 [==============================] - 0s 2ms/step - loss: 0.2112 - accuracy: 0.9285 - val_loss: 0.0378 - val_accuracy: 0.9968\n",
            "\n",
            "Epoch 00048: saving model to model/keypoint_classifier\\keypoint_classifier.hdf5\n",
            "Epoch 49/1000\n",
            "37/37 [==============================] - 0s 2ms/step - loss: 0.2203 - accuracy: 0.9234 - val_loss: 0.0385 - val_accuracy: 0.9949\n",
            "\n",
            "Epoch 00049: saving model to model/keypoint_classifier\\keypoint_classifier.hdf5\n",
            "Epoch 50/1000\n",
            "37/37 [==============================] - 0s 2ms/step - loss: 0.2367 - accuracy: 0.9207 - val_loss: 0.0372 - val_accuracy: 0.9949\n",
            "\n",
            "Epoch 00050: saving model to model/keypoint_classifier\\keypoint_classifier.hdf5\n",
            "Epoch 51/1000\n",
            "37/37 [==============================] - 0s 2ms/step - loss: 0.2180 - accuracy: 0.9257 - val_loss: 0.0372 - val_accuracy: 0.9975\n",
            "\n",
            "Epoch 00051: saving model to model/keypoint_classifier\\keypoint_classifier.hdf5\n",
            "Epoch 52/1000\n",
            "37/37 [==============================] - 0s 2ms/step - loss: 0.2198 - accuracy: 0.9234 - val_loss: 0.0403 - val_accuracy: 0.9962\n",
            "\n",
            "Epoch 00052: saving model to model/keypoint_classifier\\keypoint_classifier.hdf5\n",
            "Epoch 53/1000\n",
            "37/37 [==============================] - 0s 2ms/step - loss: 0.2126 - accuracy: 0.9285 - val_loss: 0.0347 - val_accuracy: 0.9968\n",
            "\n",
            "Epoch 00053: saving model to model/keypoint_classifier\\keypoint_classifier.hdf5\n",
            "Epoch 54/1000\n",
            "37/37 [==============================] - 0s 2ms/step - loss: 0.2174 - accuracy: 0.9262 - val_loss: 0.0371 - val_accuracy: 0.9949\n",
            "\n",
            "Epoch 00054: saving model to model/keypoint_classifier\\keypoint_classifier.hdf5\n",
            "Epoch 55/1000\n",
            "37/37 [==============================] - 0s 2ms/step - loss: 0.2221 - accuracy: 0.9219 - val_loss: 0.0395 - val_accuracy: 0.9956\n",
            "\n",
            "Epoch 00055: saving model to model/keypoint_classifier\\keypoint_classifier.hdf5\n",
            "Epoch 56/1000\n",
            "37/37 [==============================] - 0s 2ms/step - loss: 0.2082 - accuracy: 0.9325 - val_loss: 0.0369 - val_accuracy: 0.9956\n",
            "\n",
            "Epoch 00056: saving model to model/keypoint_classifier\\keypoint_classifier.hdf5\n",
            "Epoch 57/1000\n",
            "37/37 [==============================] - 0s 2ms/step - loss: 0.2135 - accuracy: 0.9285 - val_loss: 0.0368 - val_accuracy: 0.9975\n",
            "\n",
            "Epoch 00057: saving model to model/keypoint_classifier\\keypoint_classifier.hdf5\n",
            "Epoch 58/1000\n",
            "37/37 [==============================] - 0s 2ms/step - loss: 0.2055 - accuracy: 0.9312 - val_loss: 0.0327 - val_accuracy: 0.9968\n",
            "\n",
            "Epoch 00058: saving model to model/keypoint_classifier\\keypoint_classifier.hdf5\n",
            "Epoch 59/1000\n",
            "37/37 [==============================] - 0s 2ms/step - loss: 0.2145 - accuracy: 0.9249 - val_loss: 0.0349 - val_accuracy: 0.9968\n",
            "\n",
            "Epoch 00059: saving model to model/keypoint_classifier\\keypoint_classifier.hdf5\n",
            "Epoch 60/1000\n",
            "37/37 [==============================] - 0s 2ms/step - loss: 0.2160 - accuracy: 0.9278 - val_loss: 0.0370 - val_accuracy: 0.9968\n",
            "\n",
            "Epoch 00060: saving model to model/keypoint_classifier\\keypoint_classifier.hdf5\n",
            "Epoch 61/1000\n",
            "37/37 [==============================] - 0s 2ms/step - loss: 0.2103 - accuracy: 0.9298 - val_loss: 0.0345 - val_accuracy: 0.9975\n",
            "\n",
            "Epoch 00061: saving model to model/keypoint_classifier\\keypoint_classifier.hdf5\n",
            "Epoch 62/1000\n",
            "37/37 [==============================] - 0s 2ms/step - loss: 0.2077 - accuracy: 0.9319 - val_loss: 0.0349 - val_accuracy: 0.9949\n",
            "\n",
            "Epoch 00062: saving model to model/keypoint_classifier\\keypoint_classifier.hdf5\n",
            "Epoch 63/1000\n",
            "37/37 [==============================] - 0s 2ms/step - loss: 0.2164 - accuracy: 0.9255 - val_loss: 0.0321 - val_accuracy: 0.9968\n",
            "\n",
            "Epoch 00063: saving model to model/keypoint_classifier\\keypoint_classifier.hdf5\n",
            "Epoch 64/1000\n",
            "37/37 [==============================] - 0s 2ms/step - loss: 0.2169 - accuracy: 0.9276 - val_loss: 0.0345 - val_accuracy: 0.9956\n",
            "\n",
            "Epoch 00064: saving model to model/keypoint_classifier\\keypoint_classifier.hdf5\n",
            "Epoch 65/1000\n",
            "37/37 [==============================] - 0s 2ms/step - loss: 0.2093 - accuracy: 0.9289 - val_loss: 0.0362 - val_accuracy: 0.9956\n",
            "\n",
            "Epoch 00065: saving model to model/keypoint_classifier\\keypoint_classifier.hdf5\n",
            "Epoch 66/1000\n",
            "37/37 [==============================] - 0s 2ms/step - loss: 0.2182 - accuracy: 0.9236 - val_loss: 0.0378 - val_accuracy: 0.9968\n",
            "\n",
            "Epoch 00066: saving model to model/keypoint_classifier\\keypoint_classifier.hdf5\n",
            "Epoch 67/1000\n",
            "37/37 [==============================] - 0s 2ms/step - loss: 0.2067 - accuracy: 0.9291 - val_loss: 0.0313 - val_accuracy: 0.9968\n",
            "\n",
            "Epoch 00067: saving model to model/keypoint_classifier\\keypoint_classifier.hdf5\n",
            "Epoch 68/1000\n",
            "37/37 [==============================] - 0s 2ms/step - loss: 0.1963 - accuracy: 0.9329 - val_loss: 0.0306 - val_accuracy: 0.9975\n",
            "\n",
            "Epoch 00068: saving model to model/keypoint_classifier\\keypoint_classifier.hdf5\n",
            "Epoch 69/1000\n",
            "37/37 [==============================] - 0s 2ms/step - loss: 0.1999 - accuracy: 0.9317 - val_loss: 0.0290 - val_accuracy: 0.9975\n",
            "\n",
            "Epoch 00069: saving model to model/keypoint_classifier\\keypoint_classifier.hdf5\n",
            "Epoch 70/1000\n",
            "37/37 [==============================] - 0s 2ms/step - loss: 0.2050 - accuracy: 0.9312 - val_loss: 0.0311 - val_accuracy: 0.9956\n",
            "\n",
            "Epoch 00070: saving model to model/keypoint_classifier\\keypoint_classifier.hdf5\n",
            "Epoch 71/1000\n",
            "37/37 [==============================] - 0s 2ms/step - loss: 0.1978 - accuracy: 0.9319 - val_loss: 0.0330 - val_accuracy: 0.9968\n",
            "\n",
            "Epoch 00071: saving model to model/keypoint_classifier\\keypoint_classifier.hdf5\n",
            "Epoch 72/1000\n",
            "37/37 [==============================] - 0s 2ms/step - loss: 0.2045 - accuracy: 0.9274 - val_loss: 0.0334 - val_accuracy: 0.9949\n",
            "\n",
            "Epoch 00072: saving model to model/keypoint_classifier\\keypoint_classifier.hdf5\n",
            "Epoch 73/1000\n",
            "37/37 [==============================] - 0s 2ms/step - loss: 0.1975 - accuracy: 0.9295 - val_loss: 0.0338 - val_accuracy: 0.9981\n",
            "\n",
            "Epoch 00073: saving model to model/keypoint_classifier\\keypoint_classifier.hdf5\n",
            "Epoch 74/1000\n",
            "37/37 [==============================] - 0s 2ms/step - loss: 0.1972 - accuracy: 0.9289 - val_loss: 0.0326 - val_accuracy: 0.9975\n",
            "\n",
            "Epoch 00074: saving model to model/keypoint_classifier\\keypoint_classifier.hdf5\n",
            "Epoch 75/1000\n",
            "37/37 [==============================] - 0s 2ms/step - loss: 0.1970 - accuracy: 0.9298 - val_loss: 0.0326 - val_accuracy: 0.9956\n",
            "\n",
            "Epoch 00075: saving model to model/keypoint_classifier\\keypoint_classifier.hdf5\n",
            "Epoch 76/1000\n",
            "37/37 [==============================] - 0s 2ms/step - loss: 0.2011 - accuracy: 0.9295 - val_loss: 0.0348 - val_accuracy: 0.9968\n",
            "\n",
            "Epoch 00076: saving model to model/keypoint_classifier\\keypoint_classifier.hdf5\n",
            "Epoch 77/1000\n",
            "37/37 [==============================] - 0s 2ms/step - loss: 0.1913 - accuracy: 0.9350 - val_loss: 0.0335 - val_accuracy: 0.9975\n",
            "\n",
            "Epoch 00077: saving model to model/keypoint_classifier\\keypoint_classifier.hdf5\n",
            "Epoch 78/1000\n",
            "37/37 [==============================] - 0s 2ms/step - loss: 0.1898 - accuracy: 0.9361 - val_loss: 0.0292 - val_accuracy: 0.9975\n",
            "\n",
            "Epoch 00078: saving model to model/keypoint_classifier\\keypoint_classifier.hdf5\n",
            "Epoch 79/1000\n",
            "37/37 [==============================] - 0s 2ms/step - loss: 0.2046 - accuracy: 0.9304 - val_loss: 0.0299 - val_accuracy: 0.9968\n",
            "\n",
            "Epoch 00079: saving model to model/keypoint_classifier\\keypoint_classifier.hdf5\n",
            "Epoch 80/1000\n",
            "37/37 [==============================] - 0s 2ms/step - loss: 0.1863 - accuracy: 0.9386 - val_loss: 0.0302 - val_accuracy: 0.9968\n",
            "\n",
            "Epoch 00080: saving model to model/keypoint_classifier\\keypoint_classifier.hdf5\n",
            "Epoch 81/1000\n",
            "37/37 [==============================] - 0s 2ms/step - loss: 0.1867 - accuracy: 0.9350 - val_loss: 0.0326 - val_accuracy: 0.9968\n",
            "\n",
            "Epoch 00081: saving model to model/keypoint_classifier\\keypoint_classifier.hdf5\n",
            "Epoch 82/1000\n",
            "37/37 [==============================] - 0s 2ms/step - loss: 0.1943 - accuracy: 0.9357 - val_loss: 0.0297 - val_accuracy: 0.9968\n",
            "\n",
            "Epoch 00082: saving model to model/keypoint_classifier\\keypoint_classifier.hdf5\n",
            "Epoch 83/1000\n",
            "37/37 [==============================] - 0s 2ms/step - loss: 0.1940 - accuracy: 0.9333 - val_loss: 0.0327 - val_accuracy: 0.9968\n",
            "\n",
            "Epoch 00083: saving model to model/keypoint_classifier\\keypoint_classifier.hdf5\n",
            "Epoch 84/1000\n",
            "37/37 [==============================] - 0s 2ms/step - loss: 0.1912 - accuracy: 0.9363 - val_loss: 0.0302 - val_accuracy: 0.9968\n",
            "\n",
            "Epoch 00084: saving model to model/keypoint_classifier\\keypoint_classifier.hdf5\n",
            "Epoch 85/1000\n",
            "37/37 [==============================] - 0s 2ms/step - loss: 0.1926 - accuracy: 0.9346 - val_loss: 0.0281 - val_accuracy: 0.9968\n",
            "\n",
            "Epoch 00085: saving model to model/keypoint_classifier\\keypoint_classifier.hdf5\n",
            "Epoch 86/1000\n",
            "37/37 [==============================] - 0s 2ms/step - loss: 0.1879 - accuracy: 0.9348 - val_loss: 0.0279 - val_accuracy: 0.9968\n",
            "\n",
            "Epoch 00086: saving model to model/keypoint_classifier\\keypoint_classifier.hdf5\n",
            "Epoch 87/1000\n",
            "37/37 [==============================] - 0s 2ms/step - loss: 0.1941 - accuracy: 0.9350 - val_loss: 0.0307 - val_accuracy: 0.9994\n",
            "\n",
            "Epoch 00087: saving model to model/keypoint_classifier\\keypoint_classifier.hdf5\n",
            "Epoch 88/1000\n",
            "37/37 [==============================] - 0s 2ms/step - loss: 0.1928 - accuracy: 0.9329 - val_loss: 0.0297 - val_accuracy: 0.9975\n",
            "\n",
            "Epoch 00088: saving model to model/keypoint_classifier\\keypoint_classifier.hdf5\n",
            "Epoch 89/1000\n",
            "37/37 [==============================] - 0s 2ms/step - loss: 0.1941 - accuracy: 0.9319 - val_loss: 0.0319 - val_accuracy: 0.9968\n",
            "\n",
            "Epoch 00089: saving model to model/keypoint_classifier\\keypoint_classifier.hdf5\n",
            "Epoch 90/1000\n",
            "37/37 [==============================] - 0s 2ms/step - loss: 0.1847 - accuracy: 0.9363 - val_loss: 0.0311 - val_accuracy: 0.9968\n",
            "\n",
            "Epoch 00090: saving model to model/keypoint_classifier\\keypoint_classifier.hdf5\n",
            "Epoch 91/1000\n",
            "37/37 [==============================] - 0s 2ms/step - loss: 0.1857 - accuracy: 0.9388 - val_loss: 0.0295 - val_accuracy: 0.9968\n",
            "\n",
            "Epoch 00091: saving model to model/keypoint_classifier\\keypoint_classifier.hdf5\n",
            "Epoch 92/1000\n",
            "37/37 [==============================] - 0s 2ms/step - loss: 0.1864 - accuracy: 0.9363 - val_loss: 0.0279 - val_accuracy: 0.9968\n",
            "\n",
            "Epoch 00092: saving model to model/keypoint_classifier\\keypoint_classifier.hdf5\n",
            "Epoch 93/1000\n",
            "37/37 [==============================] - 0s 2ms/step - loss: 0.1775 - accuracy: 0.9410 - val_loss: 0.0244 - val_accuracy: 0.9975\n",
            "\n",
            "Epoch 00093: saving model to model/keypoint_classifier\\keypoint_classifier.hdf5\n",
            "Epoch 94/1000\n",
            "37/37 [==============================] - 0s 2ms/step - loss: 0.1881 - accuracy: 0.9353 - val_loss: 0.0275 - val_accuracy: 0.9968\n",
            "\n",
            "Epoch 00094: saving model to model/keypoint_classifier\\keypoint_classifier.hdf5\n",
            "Epoch 95/1000\n",
            "37/37 [==============================] - 0s 2ms/step - loss: 0.1825 - accuracy: 0.9359 - val_loss: 0.0315 - val_accuracy: 0.9962\n",
            "\n",
            "Epoch 00095: saving model to model/keypoint_classifier\\keypoint_classifier.hdf5\n",
            "Epoch 96/1000\n",
            "37/37 [==============================] - 0s 2ms/step - loss: 0.1752 - accuracy: 0.9412 - val_loss: 0.0323 - val_accuracy: 0.9949\n",
            "\n",
            "Epoch 00096: saving model to model/keypoint_classifier\\keypoint_classifier.hdf5\n",
            "Epoch 97/1000\n",
            "37/37 [==============================] - 0s 2ms/step - loss: 0.1842 - accuracy: 0.9363 - val_loss: 0.0281 - val_accuracy: 0.9956\n",
            "\n",
            "Epoch 00097: saving model to model/keypoint_classifier\\keypoint_classifier.hdf5\n",
            "Epoch 98/1000\n",
            "37/37 [==============================] - 0s 2ms/step - loss: 0.1794 - accuracy: 0.9388 - val_loss: 0.0265 - val_accuracy: 0.9968\n",
            "\n",
            "Epoch 00098: saving model to model/keypoint_classifier\\keypoint_classifier.hdf5\n",
            "Epoch 99/1000\n",
            "37/37 [==============================] - 0s 2ms/step - loss: 0.1850 - accuracy: 0.9361 - val_loss: 0.0294 - val_accuracy: 0.9956\n",
            "\n",
            "Epoch 00099: saving model to model/keypoint_classifier\\keypoint_classifier.hdf5\n",
            "Epoch 100/1000\n",
            "37/37 [==============================] - 0s 2ms/step - loss: 0.1716 - accuracy: 0.9401 - val_loss: 0.0302 - val_accuracy: 0.9975\n",
            "\n",
            "Epoch 00100: saving model to model/keypoint_classifier\\keypoint_classifier.hdf5\n",
            "Epoch 101/1000\n",
            "37/37 [==============================] - 0s 2ms/step - loss: 0.1882 - accuracy: 0.9348 - val_loss: 0.0291 - val_accuracy: 0.9962\n",
            "\n",
            "Epoch 00101: saving model to model/keypoint_classifier\\keypoint_classifier.hdf5\n",
            "Epoch 102/1000\n",
            "37/37 [==============================] - 0s 2ms/step - loss: 0.1845 - accuracy: 0.9376 - val_loss: 0.0288 - val_accuracy: 0.9968\n",
            "\n",
            "Epoch 00102: saving model to model/keypoint_classifier\\keypoint_classifier.hdf5\n",
            "Epoch 103/1000\n",
            "37/37 [==============================] - 0s 2ms/step - loss: 0.1823 - accuracy: 0.9408 - val_loss: 0.0348 - val_accuracy: 0.9975\n",
            "\n",
            "Epoch 00103: saving model to model/keypoint_classifier\\keypoint_classifier.hdf5\n",
            "Epoch 104/1000\n",
            "37/37 [==============================] - 0s 2ms/step - loss: 0.1673 - accuracy: 0.9463 - val_loss: 0.0283 - val_accuracy: 0.9975\n",
            "\n",
            "Epoch 00104: saving model to model/keypoint_classifier\\keypoint_classifier.hdf5\n",
            "Epoch 105/1000\n",
            "37/37 [==============================] - 0s 2ms/step - loss: 0.1779 - accuracy: 0.9410 - val_loss: 0.0268 - val_accuracy: 0.9981\n",
            "\n",
            "Epoch 00105: saving model to model/keypoint_classifier\\keypoint_classifier.hdf5\n",
            "Epoch 106/1000\n",
            "37/37 [==============================] - 0s 2ms/step - loss: 0.1784 - accuracy: 0.9408 - val_loss: 0.0254 - val_accuracy: 0.9994\n",
            "\n",
            "Epoch 00106: saving model to model/keypoint_classifier\\keypoint_classifier.hdf5\n",
            "Epoch 107/1000\n",
            "37/37 [==============================] - 0s 2ms/step - loss: 0.1723 - accuracy: 0.9435 - val_loss: 0.0270 - val_accuracy: 0.9975\n",
            "\n",
            "Epoch 00107: saving model to model/keypoint_classifier\\keypoint_classifier.hdf5\n",
            "Epoch 108/1000\n",
            "37/37 [==============================] - 0s 2ms/step - loss: 0.1800 - accuracy: 0.9376 - val_loss: 0.0295 - val_accuracy: 1.0000\n",
            "\n",
            "Epoch 00108: saving model to model/keypoint_classifier\\keypoint_classifier.hdf5\n",
            "Epoch 109/1000\n",
            "37/37 [==============================] - 0s 2ms/step - loss: 0.1661 - accuracy: 0.9463 - val_loss: 0.0265 - val_accuracy: 0.9975\n",
            "\n",
            "Epoch 00109: saving model to model/keypoint_classifier\\keypoint_classifier.hdf5\n",
            "Epoch 110/1000\n",
            "37/37 [==============================] - 0s 2ms/step - loss: 0.1662 - accuracy: 0.9448 - val_loss: 0.0255 - val_accuracy: 1.0000\n",
            "\n",
            "Epoch 00110: saving model to model/keypoint_classifier\\keypoint_classifier.hdf5\n",
            "Epoch 111/1000\n",
            "37/37 [==============================] - 0s 2ms/step - loss: 0.1811 - accuracy: 0.9376 - val_loss: 0.0269 - val_accuracy: 1.0000\n",
            "\n",
            "Epoch 00111: saving model to model/keypoint_classifier\\keypoint_classifier.hdf5\n",
            "Epoch 112/1000\n",
            "37/37 [==============================] - 0s 2ms/step - loss: 0.1596 - accuracy: 0.9463 - val_loss: 0.0255 - val_accuracy: 1.0000\n",
            "\n",
            "Epoch 00112: saving model to model/keypoint_classifier\\keypoint_classifier.hdf5\n",
            "Epoch 113/1000\n",
            "37/37 [==============================] - 0s 2ms/step - loss: 0.1563 - accuracy: 0.9471 - val_loss: 0.0250 - val_accuracy: 1.0000\n",
            "\n",
            "Epoch 00113: saving model to model/keypoint_classifier\\keypoint_classifier.hdf5\n",
            "Epoch 00113: early stopping\n"
          ]
        },
        {
          "output_type": "execute_result",
          "data": {
            "text/plain": [
              "<tensorflow.python.keras.callbacks.History at 0x21a6e7a3310>"
            ]
          },
          "metadata": {},
          "execution_count": 11
        }
      ]
    },
    {
      "cell_type": "code",
      "metadata": {
        "id": "pxvb2Y299hE3",
        "colab": {
          "base_uri": "https://localhost:8080/"
        },
        "outputId": "59eb3185-2e37-4b9e-bc9d-ab1b8ac29b7f"
      },
      "source": [
        "# Model evaluation\n",
        "val_loss, val_acc = model.evaluate(X_test, y_test, batch_size=128)"
      ],
      "execution_count": 12,
      "outputs": [
        {
          "output_type": "stream",
          "name": "stdout",
          "text": [
            "13/13 [==============================] - 0s 997us/step - loss: 0.0250 - accuracy: 1.0000\n"
          ]
        }
      ]
    },
    {
      "cell_type": "code",
      "metadata": {
        "id": "RBkmDeUW9hE4"
      },
      "source": [
        "# Loading the saved model\n",
        "model = tf.keras.models.load_model(model_save_path)"
      ],
      "execution_count": 13,
      "outputs": []
    },
    {
      "cell_type": "code",
      "metadata": {
        "id": "tFz9Tb0I9hE4",
        "colab": {
          "base_uri": "https://localhost:8080/"
        },
        "outputId": "1c3b3528-54ae-4ee2-ab04-77429211cbef"
      },
      "source": [
        "# Inference test\n",
        "predict_result = model.predict(np.array([X_test[0]]))\n",
        "print(np.squeeze(predict_result))\n",
        "print(np.argmax(np.squeeze(predict_result)))"
      ],
      "execution_count": 14,
      "outputs": [
        {
          "output_type": "stream",
          "name": "stdout",
          "text": [
            "[4.2746957e-02 9.5445830e-01 9.0139702e-06 2.5126762e-03 2.7290676e-04]\n1\n"
          ]
        }
      ]
    },
    {
      "cell_type": "markdown",
      "metadata": {
        "id": "S3U4yNWx9hE4"
      },
      "source": [
        "# Confusion matrix"
      ]
    },
    {
      "cell_type": "code",
      "metadata": {
        "id": "AP1V6SCk9hE5",
        "colab": {
          "base_uri": "https://localhost:8080/",
          "height": 582
        },
        "outputId": "08e41a80-7a4a-4619-8125-ecc371368d19"
      },
      "source": [
        "import pandas as pd\n",
        "import seaborn as sns\n",
        "import matplotlib.pyplot as plt\n",
        "from sklearn.metrics import confusion_matrix, classification_report\n",
        "\n",
        "def print_confusion_matrix(y_true, y_pred, report=True):\n",
        "    labels = sorted(list(set(y_true)))\n",
        "    cmx_data = confusion_matrix(y_true, y_pred, labels=labels)\n",
        "    \n",
        "    df_cmx = pd.DataFrame(cmx_data, index=labels, columns=labels)\n",
        " \n",
        "    fig, ax = plt.subplots(figsize=(7, 6))\n",
        "    sns.heatmap(df_cmx, annot=True, fmt='g' ,square=False)\n",
        "    ax.set_ylim(len(set(y_true)), 0)\n",
        "    plt.show()\n",
        "    \n",
        "    if report:\n",
        "        print('Classification Report')\n",
        "        print(classification_report(y_test, y_pred))\n",
        "\n",
        "Y_pred = model.predict(X_test)\n",
        "y_pred = np.argmax(Y_pred, axis=1)\n",
        "\n",
        "print_confusion_matrix(y_test, y_pred)"
      ],
      "execution_count": 15,
      "outputs": [
        {
          "output_type": "display_data",
          "data": {
            "text/plain": "<Figure size 504x432 with 2 Axes>",
            "image/svg+xml": "<?xml version=\"1.0\" encoding=\"utf-8\" standalone=\"no\"?>\r\n<!DOCTYPE svg PUBLIC \"-//W3C//DTD SVG 1.1//EN\"\r\n  \"http://www.w3.org/Graphics/SVG/1.1/DTD/svg11.dtd\">\r\n<!-- Created with matplotlib (https://matplotlib.org/) -->\r\n<svg height=\"357.238125pt\" version=\"1.1\" viewBox=\"0 0 405.483625 357.238125\" width=\"405.483625pt\" xmlns=\"http://www.w3.org/2000/svg\" xmlns:xlink=\"http://www.w3.org/1999/xlink\">\r\n <metadata>\r\n  <rdf:RDF xmlns:cc=\"http://creativecommons.org/ns#\" xmlns:dc=\"http://purl.org/dc/elements/1.1/\" xmlns:rdf=\"http://www.w3.org/1999/02/22-rdf-syntax-ns#\">\r\n   <cc:Work>\r\n    <dc:type rdf:resource=\"http://purl.org/dc/dcmitype/StillImage\"/>\r\n    <dc:date>2021-06-21T18:18:15.037990</dc:date>\r\n    <dc:format>image/svg+xml</dc:format>\r\n    <dc:creator>\r\n     <cc:Agent>\r\n      <dc:title>Matplotlib v3.3.4, https://matplotlib.org/</dc:title>\r\n     </cc:Agent>\r\n    </dc:creator>\r\n   </cc:Work>\r\n  </rdf:RDF>\r\n </metadata>\r\n <defs>\r\n  <style type=\"text/css\">*{stroke-linecap:butt;stroke-linejoin:round;}</style>\r\n </defs>\r\n <g id=\"figure_1\">\r\n  <g id=\"patch_1\">\r\n   <path d=\"M 0 357.238125 \r\nL 405.483625 357.238125 \r\nL 405.483625 0 \r\nL 0 0 \r\nz\r\n\" style=\"fill:none;\"/>\r\n  </g>\r\n  <g id=\"axes_1\">\r\n   <g id=\"patch_2\">\r\n    <path d=\"M 23.878125 333.36 \r\nL 336.358125 333.36 \r\nL 336.358125 7.2 \r\nL 23.878125 7.2 \r\nz\r\n\" style=\"fill:#ffffff;\"/>\r\n   </g>\r\n   <g id=\"QuadMesh_1\">\r\n    <path clip-path=\"url(#p35af892129)\" d=\"M 23.878125 7.2 \r\nL 86.374125 7.2 \r\nL 86.374125 72.432 \r\nL 23.878125 72.432 \r\nL 23.878125 7.2 \r\n\" style=\"fill:#fae8d8;\"/>\r\n    <path clip-path=\"url(#p35af892129)\" d=\"M 86.374125 7.2 \r\nL 148.870125 7.2 \r\nL 148.870125 72.432 \r\nL 86.374125 72.432 \r\nL 86.374125 7.2 \r\n\" style=\"fill:#03051a;\"/>\r\n    <path clip-path=\"url(#p35af892129)\" d=\"M 148.870125 7.2 \r\nL 211.366125 7.2 \r\nL 211.366125 72.432 \r\nL 148.870125 72.432 \r\nL 148.870125 7.2 \r\n\" style=\"fill:#03051a;\"/>\r\n    <path clip-path=\"url(#p35af892129)\" d=\"M 211.366125 7.2 \r\nL 273.862125 7.2 \r\nL 273.862125 72.432 \r\nL 211.366125 72.432 \r\nL 211.366125 7.2 \r\n\" style=\"fill:#03051a;\"/>\r\n    <path clip-path=\"url(#p35af892129)\" d=\"M 273.862125 7.2 \r\nL 336.358125 7.2 \r\nL 336.358125 72.432 \r\nL 273.862125 72.432 \r\nL 273.862125 7.2 \r\n\" style=\"fill:#03051a;\"/>\r\n    <path clip-path=\"url(#p35af892129)\" d=\"M 23.878125 72.432 \r\nL 86.374125 72.432 \r\nL 86.374125 137.664 \r\nL 23.878125 137.664 \r\nL 23.878125 72.432 \r\n\" style=\"fill:#03051a;\"/>\r\n    <path clip-path=\"url(#p35af892129)\" d=\"M 86.374125 72.432 \r\nL 148.870125 72.432 \r\nL 148.870125 137.664 \r\nL 86.374125 137.664 \r\nL 86.374125 72.432 \r\n\" style=\"fill:#f9ddc9;\"/>\r\n    <path clip-path=\"url(#p35af892129)\" d=\"M 148.870125 72.432 \r\nL 211.366125 72.432 \r\nL 211.366125 137.664 \r\nL 148.870125 137.664 \r\nL 148.870125 72.432 \r\n\" style=\"fill:#03051a;\"/>\r\n    <path clip-path=\"url(#p35af892129)\" d=\"M 211.366125 72.432 \r\nL 273.862125 72.432 \r\nL 273.862125 137.664 \r\nL 211.366125 137.664 \r\nL 211.366125 72.432 \r\n\" style=\"fill:#03051a;\"/>\r\n    <path clip-path=\"url(#p35af892129)\" d=\"M 273.862125 72.432 \r\nL 336.358125 72.432 \r\nL 336.358125 137.664 \r\nL 273.862125 137.664 \r\nL 273.862125 72.432 \r\n\" style=\"fill:#03051a;\"/>\r\n    <path clip-path=\"url(#p35af892129)\" d=\"M 23.878125 137.664 \r\nL 86.374125 137.664 \r\nL 86.374125 202.896 \r\nL 23.878125 202.896 \r\nL 23.878125 137.664 \r\n\" style=\"fill:#03051a;\"/>\r\n    <path clip-path=\"url(#p35af892129)\" d=\"M 86.374125 137.664 \r\nL 148.870125 137.664 \r\nL 148.870125 202.896 \r\nL 86.374125 202.896 \r\nL 86.374125 137.664 \r\n\" style=\"fill:#03051a;\"/>\r\n    <path clip-path=\"url(#p35af892129)\" d=\"M 148.870125 137.664 \r\nL 211.366125 137.664 \r\nL 211.366125 202.896 \r\nL 148.870125 202.896 \r\nL 148.870125 137.664 \r\n\" style=\"fill:#faebdd;\"/>\r\n    <path clip-path=\"url(#p35af892129)\" d=\"M 211.366125 137.664 \r\nL 273.862125 137.664 \r\nL 273.862125 202.896 \r\nL 211.366125 202.896 \r\nL 211.366125 137.664 \r\n\" style=\"fill:#03051a;\"/>\r\n    <path clip-path=\"url(#p35af892129)\" d=\"M 273.862125 137.664 \r\nL 336.358125 137.664 \r\nL 336.358125 202.896 \r\nL 273.862125 202.896 \r\nL 273.862125 137.664 \r\n\" style=\"fill:#03051a;\"/>\r\n    <path clip-path=\"url(#p35af892129)\" d=\"M 23.878125 202.896 \r\nL 86.374125 202.896 \r\nL 86.374125 268.128 \r\nL 23.878125 268.128 \r\nL 23.878125 202.896 \r\n\" style=\"fill:#03051a;\"/>\r\n    <path clip-path=\"url(#p35af892129)\" d=\"M 86.374125 202.896 \r\nL 148.870125 202.896 \r\nL 148.870125 268.128 \r\nL 86.374125 268.128 \r\nL 86.374125 202.896 \r\n\" style=\"fill:#03051a;\"/>\r\n    <path clip-path=\"url(#p35af892129)\" d=\"M 148.870125 202.896 \r\nL 211.366125 202.896 \r\nL 211.366125 268.128 \r\nL 148.870125 268.128 \r\nL 148.870125 202.896 \r\n\" style=\"fill:#03051a;\"/>\r\n    <path clip-path=\"url(#p35af892129)\" d=\"M 211.366125 202.896 \r\nL 273.862125 202.896 \r\nL 273.862125 268.128 \r\nL 211.366125 268.128 \r\nL 211.366125 202.896 \r\n\" style=\"fill:#f47f58;\"/>\r\n    <path clip-path=\"url(#p35af892129)\" d=\"M 273.862125 202.896 \r\nL 336.358125 202.896 \r\nL 336.358125 268.128 \r\nL 273.862125 268.128 \r\nL 273.862125 202.896 \r\n\" style=\"fill:#03051a;\"/>\r\n    <path clip-path=\"url(#p35af892129)\" d=\"M 23.878125 268.128 \r\nL 86.374125 268.128 \r\nL 86.374125 333.36 \r\nL 23.878125 333.36 \r\nL 23.878125 268.128 \r\n\" style=\"fill:#03051a;\"/>\r\n    <path clip-path=\"url(#p35af892129)\" d=\"M 86.374125 268.128 \r\nL 148.870125 268.128 \r\nL 148.870125 333.36 \r\nL 86.374125 333.36 \r\nL 86.374125 268.128 \r\n\" style=\"fill:#03051a;\"/>\r\n    <path clip-path=\"url(#p35af892129)\" d=\"M 148.870125 268.128 \r\nL 211.366125 268.128 \r\nL 211.366125 333.36 \r\nL 148.870125 333.36 \r\nL 148.870125 268.128 \r\n\" style=\"fill:#03051a;\"/>\r\n    <path clip-path=\"url(#p35af892129)\" d=\"M 211.366125 268.128 \r\nL 273.862125 268.128 \r\nL 273.862125 333.36 \r\nL 211.366125 333.36 \r\nL 211.366125 268.128 \r\n\" style=\"fill:#03051a;\"/>\r\n    <path clip-path=\"url(#p35af892129)\" d=\"M 273.862125 268.128 \r\nL 336.358125 268.128 \r\nL 336.358125 333.36 \r\nL 273.862125 333.36 \r\nL 273.862125 268.128 \r\n\" style=\"fill:#f6a880;\"/>\r\n   </g>\r\n   <g id=\"matplotlib.axis_1\">\r\n    <g id=\"xtick_1\">\r\n     <g id=\"line2d_1\">\r\n      <defs>\r\n       <path d=\"M 0 0 \r\nL 0 3.5 \r\n\" id=\"mf8357e1a05\" style=\"stroke:#000000;stroke-width:0.8;\"/>\r\n      </defs>\r\n      <g>\r\n       <use style=\"stroke:#000000;stroke-width:0.8;\" x=\"55.126125\" xlink:href=\"#mf8357e1a05\" y=\"333.36\"/>\r\n      </g>\r\n     </g>\r\n     <g id=\"text_1\">\r\n      <!-- 0 -->\r\n      <g transform=\"translate(51.944875 347.958438)scale(0.1 -0.1)\">\r\n       <defs>\r\n        <path d=\"M 31.78125 66.40625 \r\nQ 24.171875 66.40625 20.328125 58.90625 \r\nQ 16.5 51.421875 16.5 36.375 \r\nQ 16.5 21.390625 20.328125 13.890625 \r\nQ 24.171875 6.390625 31.78125 6.390625 \r\nQ 39.453125 6.390625 43.28125 13.890625 \r\nQ 47.125 21.390625 47.125 36.375 \r\nQ 47.125 51.421875 43.28125 58.90625 \r\nQ 39.453125 66.40625 31.78125 66.40625 \r\nz\r\nM 31.78125 74.21875 \r\nQ 44.046875 74.21875 50.515625 64.515625 \r\nQ 56.984375 54.828125 56.984375 36.375 \r\nQ 56.984375 17.96875 50.515625 8.265625 \r\nQ 44.046875 -1.421875 31.78125 -1.421875 \r\nQ 19.53125 -1.421875 13.0625 8.265625 \r\nQ 6.59375 17.96875 6.59375 36.375 \r\nQ 6.59375 54.828125 13.0625 64.515625 \r\nQ 19.53125 74.21875 31.78125 74.21875 \r\nz\r\n\" id=\"DejaVuSans-48\"/>\r\n       </defs>\r\n       <use xlink:href=\"#DejaVuSans-48\"/>\r\n      </g>\r\n     </g>\r\n    </g>\r\n    <g id=\"xtick_2\">\r\n     <g id=\"line2d_2\">\r\n      <g>\r\n       <use style=\"stroke:#000000;stroke-width:0.8;\" x=\"117.622125\" xlink:href=\"#mf8357e1a05\" y=\"333.36\"/>\r\n      </g>\r\n     </g>\r\n     <g id=\"text_2\">\r\n      <!-- 1 -->\r\n      <g transform=\"translate(114.440875 347.958438)scale(0.1 -0.1)\">\r\n       <defs>\r\n        <path d=\"M 12.40625 8.296875 \r\nL 28.515625 8.296875 \r\nL 28.515625 63.921875 \r\nL 10.984375 60.40625 \r\nL 10.984375 69.390625 \r\nL 28.421875 72.90625 \r\nL 38.28125 72.90625 \r\nL 38.28125 8.296875 \r\nL 54.390625 8.296875 \r\nL 54.390625 0 \r\nL 12.40625 0 \r\nz\r\n\" id=\"DejaVuSans-49\"/>\r\n       </defs>\r\n       <use xlink:href=\"#DejaVuSans-49\"/>\r\n      </g>\r\n     </g>\r\n    </g>\r\n    <g id=\"xtick_3\">\r\n     <g id=\"line2d_3\">\r\n      <g>\r\n       <use style=\"stroke:#000000;stroke-width:0.8;\" x=\"180.118125\" xlink:href=\"#mf8357e1a05\" y=\"333.36\"/>\r\n      </g>\r\n     </g>\r\n     <g id=\"text_3\">\r\n      <!-- 2 -->\r\n      <g transform=\"translate(176.936875 347.958438)scale(0.1 -0.1)\">\r\n       <defs>\r\n        <path d=\"M 19.1875 8.296875 \r\nL 53.609375 8.296875 \r\nL 53.609375 0 \r\nL 7.328125 0 \r\nL 7.328125 8.296875 \r\nQ 12.9375 14.109375 22.625 23.890625 \r\nQ 32.328125 33.6875 34.8125 36.53125 \r\nQ 39.546875 41.84375 41.421875 45.53125 \r\nQ 43.3125 49.21875 43.3125 52.78125 \r\nQ 43.3125 58.59375 39.234375 62.25 \r\nQ 35.15625 65.921875 28.609375 65.921875 \r\nQ 23.96875 65.921875 18.8125 64.3125 \r\nQ 13.671875 62.703125 7.8125 59.421875 \r\nL 7.8125 69.390625 \r\nQ 13.765625 71.78125 18.9375 73 \r\nQ 24.125 74.21875 28.421875 74.21875 \r\nQ 39.75 74.21875 46.484375 68.546875 \r\nQ 53.21875 62.890625 53.21875 53.421875 \r\nQ 53.21875 48.921875 51.53125 44.890625 \r\nQ 49.859375 40.875 45.40625 35.40625 \r\nQ 44.1875 33.984375 37.640625 27.21875 \r\nQ 31.109375 20.453125 19.1875 8.296875 \r\nz\r\n\" id=\"DejaVuSans-50\"/>\r\n       </defs>\r\n       <use xlink:href=\"#DejaVuSans-50\"/>\r\n      </g>\r\n     </g>\r\n    </g>\r\n    <g id=\"xtick_4\">\r\n     <g id=\"line2d_4\">\r\n      <g>\r\n       <use style=\"stroke:#000000;stroke-width:0.8;\" x=\"242.614125\" xlink:href=\"#mf8357e1a05\" y=\"333.36\"/>\r\n      </g>\r\n     </g>\r\n     <g id=\"text_4\">\r\n      <!-- 3 -->\r\n      <g transform=\"translate(239.432875 347.958438)scale(0.1 -0.1)\">\r\n       <defs>\r\n        <path d=\"M 40.578125 39.3125 \r\nQ 47.65625 37.796875 51.625 33 \r\nQ 55.609375 28.21875 55.609375 21.1875 \r\nQ 55.609375 10.40625 48.1875 4.484375 \r\nQ 40.765625 -1.421875 27.09375 -1.421875 \r\nQ 22.515625 -1.421875 17.65625 -0.515625 \r\nQ 12.796875 0.390625 7.625 2.203125 \r\nL 7.625 11.71875 \r\nQ 11.71875 9.328125 16.59375 8.109375 \r\nQ 21.484375 6.890625 26.8125 6.890625 \r\nQ 36.078125 6.890625 40.9375 10.546875 \r\nQ 45.796875 14.203125 45.796875 21.1875 \r\nQ 45.796875 27.640625 41.28125 31.265625 \r\nQ 36.765625 34.90625 28.71875 34.90625 \r\nL 20.21875 34.90625 \r\nL 20.21875 43.015625 \r\nL 29.109375 43.015625 \r\nQ 36.375 43.015625 40.234375 45.921875 \r\nQ 44.09375 48.828125 44.09375 54.296875 \r\nQ 44.09375 59.90625 40.109375 62.90625 \r\nQ 36.140625 65.921875 28.71875 65.921875 \r\nQ 24.65625 65.921875 20.015625 65.03125 \r\nQ 15.375 64.15625 9.8125 62.3125 \r\nL 9.8125 71.09375 \r\nQ 15.4375 72.65625 20.34375 73.4375 \r\nQ 25.25 74.21875 29.59375 74.21875 \r\nQ 40.828125 74.21875 47.359375 69.109375 \r\nQ 53.90625 64.015625 53.90625 55.328125 \r\nQ 53.90625 49.265625 50.4375 45.09375 \r\nQ 46.96875 40.921875 40.578125 39.3125 \r\nz\r\n\" id=\"DejaVuSans-51\"/>\r\n       </defs>\r\n       <use xlink:href=\"#DejaVuSans-51\"/>\r\n      </g>\r\n     </g>\r\n    </g>\r\n    <g id=\"xtick_5\">\r\n     <g id=\"line2d_5\">\r\n      <g>\r\n       <use style=\"stroke:#000000;stroke-width:0.8;\" x=\"305.110125\" xlink:href=\"#mf8357e1a05\" y=\"333.36\"/>\r\n      </g>\r\n     </g>\r\n     <g id=\"text_5\">\r\n      <!-- 4 -->\r\n      <g transform=\"translate(301.928875 347.958438)scale(0.1 -0.1)\">\r\n       <defs>\r\n        <path d=\"M 37.796875 64.3125 \r\nL 12.890625 25.390625 \r\nL 37.796875 25.390625 \r\nz\r\nM 35.203125 72.90625 \r\nL 47.609375 72.90625 \r\nL 47.609375 25.390625 \r\nL 58.015625 25.390625 \r\nL 58.015625 17.1875 \r\nL 47.609375 17.1875 \r\nL 47.609375 0 \r\nL 37.796875 0 \r\nL 37.796875 17.1875 \r\nL 4.890625 17.1875 \r\nL 4.890625 26.703125 \r\nz\r\n\" id=\"DejaVuSans-52\"/>\r\n       </defs>\r\n       <use xlink:href=\"#DejaVuSans-52\"/>\r\n      </g>\r\n     </g>\r\n    </g>\r\n   </g>\r\n   <g id=\"matplotlib.axis_2\">\r\n    <g id=\"ytick_1\">\r\n     <g id=\"line2d_6\">\r\n      <defs>\r\n       <path d=\"M 0 0 \r\nL -3.5 0 \r\n\" id=\"m0e1d694dc0\" style=\"stroke:#000000;stroke-width:0.8;\"/>\r\n      </defs>\r\n      <g>\r\n       <use style=\"stroke:#000000;stroke-width:0.8;\" x=\"23.878125\" xlink:href=\"#m0e1d694dc0\" y=\"39.816\"/>\r\n      </g>\r\n     </g>\r\n     <g id=\"text_6\">\r\n      <!-- 0 -->\r\n      <g transform=\"translate(14.798438 42.379281)rotate(-90)scale(0.1 -0.1)\">\r\n       <use xlink:href=\"#DejaVuSans-48\"/>\r\n      </g>\r\n     </g>\r\n    </g>\r\n    <g id=\"ytick_2\">\r\n     <g id=\"line2d_7\">\r\n      <g>\r\n       <use style=\"stroke:#000000;stroke-width:0.8;\" x=\"23.878125\" xlink:href=\"#m0e1d694dc0\" y=\"105.048\"/>\r\n      </g>\r\n     </g>\r\n     <g id=\"text_7\">\r\n      <!-- 1 -->\r\n      <g transform=\"translate(14.798438 107.611281)rotate(-90)scale(0.1 -0.1)\">\r\n       <use xlink:href=\"#DejaVuSans-49\"/>\r\n      </g>\r\n     </g>\r\n    </g>\r\n    <g id=\"ytick_3\">\r\n     <g id=\"line2d_8\">\r\n      <g>\r\n       <use style=\"stroke:#000000;stroke-width:0.8;\" x=\"23.878125\" xlink:href=\"#m0e1d694dc0\" y=\"170.28\"/>\r\n      </g>\r\n     </g>\r\n     <g id=\"text_8\">\r\n      <!-- 2 -->\r\n      <g transform=\"translate(14.798438 172.843281)rotate(-90)scale(0.1 -0.1)\">\r\n       <use xlink:href=\"#DejaVuSans-50\"/>\r\n      </g>\r\n     </g>\r\n    </g>\r\n    <g id=\"ytick_4\">\r\n     <g id=\"line2d_9\">\r\n      <g>\r\n       <use style=\"stroke:#000000;stroke-width:0.8;\" x=\"23.878125\" xlink:href=\"#m0e1d694dc0\" y=\"235.512\"/>\r\n      </g>\r\n     </g>\r\n     <g id=\"text_9\">\r\n      <!-- 3 -->\r\n      <g transform=\"translate(14.798438 238.075281)rotate(-90)scale(0.1 -0.1)\">\r\n       <use xlink:href=\"#DejaVuSans-51\"/>\r\n      </g>\r\n     </g>\r\n    </g>\r\n    <g id=\"ytick_5\">\r\n     <g id=\"line2d_10\">\r\n      <g>\r\n       <use style=\"stroke:#000000;stroke-width:0.8;\" x=\"23.878125\" xlink:href=\"#m0e1d694dc0\" y=\"300.744\"/>\r\n      </g>\r\n     </g>\r\n     <g id=\"text_10\">\r\n      <!-- 4 -->\r\n      <g transform=\"translate(14.798438 303.307281)rotate(-90)scale(0.1 -0.1)\">\r\n       <use xlink:href=\"#DejaVuSans-52\"/>\r\n      </g>\r\n     </g>\r\n    </g>\r\n   </g>\r\n   <g id=\"text_11\">\r\n    <!-- 346 -->\r\n    <g style=\"fill:#262626;\" transform=\"translate(45.582375 42.575375)scale(0.1 -0.1)\">\r\n     <defs>\r\n      <path d=\"M 33.015625 40.375 \r\nQ 26.375 40.375 22.484375 35.828125 \r\nQ 18.609375 31.296875 18.609375 23.390625 \r\nQ 18.609375 15.53125 22.484375 10.953125 \r\nQ 26.375 6.390625 33.015625 6.390625 \r\nQ 39.65625 6.390625 43.53125 10.953125 \r\nQ 47.40625 15.53125 47.40625 23.390625 \r\nQ 47.40625 31.296875 43.53125 35.828125 \r\nQ 39.65625 40.375 33.015625 40.375 \r\nz\r\nM 52.59375 71.296875 \r\nL 52.59375 62.3125 \r\nQ 48.875 64.0625 45.09375 64.984375 \r\nQ 41.3125 65.921875 37.59375 65.921875 \r\nQ 27.828125 65.921875 22.671875 59.328125 \r\nQ 17.53125 52.734375 16.796875 39.40625 \r\nQ 19.671875 43.65625 24.015625 45.921875 \r\nQ 28.375 48.1875 33.59375 48.1875 \r\nQ 44.578125 48.1875 50.953125 41.515625 \r\nQ 57.328125 34.859375 57.328125 23.390625 \r\nQ 57.328125 12.15625 50.6875 5.359375 \r\nQ 44.046875 -1.421875 33.015625 -1.421875 \r\nQ 20.359375 -1.421875 13.671875 8.265625 \r\nQ 6.984375 17.96875 6.984375 36.375 \r\nQ 6.984375 53.65625 15.1875 63.9375 \r\nQ 23.390625 74.21875 37.203125 74.21875 \r\nQ 40.921875 74.21875 44.703125 73.484375 \r\nQ 48.484375 72.75 52.59375 71.296875 \r\nz\r\n\" id=\"DejaVuSans-54\"/>\r\n     </defs>\r\n     <use xlink:href=\"#DejaVuSans-51\"/>\r\n     <use x=\"63.623047\" xlink:href=\"#DejaVuSans-52\"/>\r\n     <use x=\"127.246094\" xlink:href=\"#DejaVuSans-54\"/>\r\n    </g>\r\n   </g>\r\n   <g id=\"text_12\">\r\n    <!-- 0 -->\r\n    <g style=\"fill:#ffffff;\" transform=\"translate(114.440875 42.575375)scale(0.1 -0.1)\">\r\n     <use xlink:href=\"#DejaVuSans-48\"/>\r\n    </g>\r\n   </g>\r\n   <g id=\"text_13\">\r\n    <!-- 0 -->\r\n    <g style=\"fill:#ffffff;\" transform=\"translate(176.936875 42.575375)scale(0.1 -0.1)\">\r\n     <use xlink:href=\"#DejaVuSans-48\"/>\r\n    </g>\r\n   </g>\r\n   <g id=\"text_14\">\r\n    <!-- 0 -->\r\n    <g style=\"fill:#ffffff;\" transform=\"translate(239.432875 42.575375)scale(0.1 -0.1)\">\r\n     <use xlink:href=\"#DejaVuSans-48\"/>\r\n    </g>\r\n   </g>\r\n   <g id=\"text_15\">\r\n    <!-- 0 -->\r\n    <g style=\"fill:#ffffff;\" transform=\"translate(301.928875 42.575375)scale(0.1 -0.1)\">\r\n     <use xlink:href=\"#DejaVuSans-48\"/>\r\n    </g>\r\n   </g>\r\n   <g id=\"text_16\">\r\n    <!-- 0 -->\r\n    <g style=\"fill:#ffffff;\" transform=\"translate(51.944875 107.807375)scale(0.1 -0.1)\">\r\n     <use xlink:href=\"#DejaVuSans-48\"/>\r\n    </g>\r\n   </g>\r\n   <g id=\"text_17\">\r\n    <!-- 336 -->\r\n    <g style=\"fill:#262626;\" transform=\"translate(108.078375 107.807375)scale(0.1 -0.1)\">\r\n     <use xlink:href=\"#DejaVuSans-51\"/>\r\n     <use x=\"63.623047\" xlink:href=\"#DejaVuSans-51\"/>\r\n     <use x=\"127.246094\" xlink:href=\"#DejaVuSans-54\"/>\r\n    </g>\r\n   </g>\r\n   <g id=\"text_18\">\r\n    <!-- 0 -->\r\n    <g style=\"fill:#ffffff;\" transform=\"translate(176.936875 107.807375)scale(0.1 -0.1)\">\r\n     <use xlink:href=\"#DejaVuSans-48\"/>\r\n    </g>\r\n   </g>\r\n   <g id=\"text_19\">\r\n    <!-- 0 -->\r\n    <g style=\"fill:#ffffff;\" transform=\"translate(239.432875 107.807375)scale(0.1 -0.1)\">\r\n     <use xlink:href=\"#DejaVuSans-48\"/>\r\n    </g>\r\n   </g>\r\n   <g id=\"text_20\">\r\n    <!-- 0 -->\r\n    <g style=\"fill:#ffffff;\" transform=\"translate(301.928875 107.807375)scale(0.1 -0.1)\">\r\n     <use xlink:href=\"#DejaVuSans-48\"/>\r\n    </g>\r\n   </g>\r\n   <g id=\"text_21\">\r\n    <!-- 0 -->\r\n    <g style=\"fill:#ffffff;\" transform=\"translate(51.944875 173.039375)scale(0.1 -0.1)\">\r\n     <use xlink:href=\"#DejaVuSans-48\"/>\r\n    </g>\r\n   </g>\r\n   <g id=\"text_22\">\r\n    <!-- 0 -->\r\n    <g style=\"fill:#ffffff;\" transform=\"translate(114.440875 173.039375)scale(0.1 -0.1)\">\r\n     <use xlink:href=\"#DejaVuSans-48\"/>\r\n    </g>\r\n   </g>\r\n   <g id=\"text_23\">\r\n    <!-- 349 -->\r\n    <g style=\"fill:#262626;\" transform=\"translate(170.574375 173.039375)scale(0.1 -0.1)\">\r\n     <defs>\r\n      <path d=\"M 10.984375 1.515625 \r\nL 10.984375 10.5 \r\nQ 14.703125 8.734375 18.5 7.8125 \r\nQ 22.3125 6.890625 25.984375 6.890625 \r\nQ 35.75 6.890625 40.890625 13.453125 \r\nQ 46.046875 20.015625 46.78125 33.40625 \r\nQ 43.953125 29.203125 39.59375 26.953125 \r\nQ 35.25 24.703125 29.984375 24.703125 \r\nQ 19.046875 24.703125 12.671875 31.3125 \r\nQ 6.296875 37.9375 6.296875 49.421875 \r\nQ 6.296875 60.640625 12.9375 67.421875 \r\nQ 19.578125 74.21875 30.609375 74.21875 \r\nQ 43.265625 74.21875 49.921875 64.515625 \r\nQ 56.59375 54.828125 56.59375 36.375 \r\nQ 56.59375 19.140625 48.40625 8.859375 \r\nQ 40.234375 -1.421875 26.421875 -1.421875 \r\nQ 22.703125 -1.421875 18.890625 -0.6875 \r\nQ 15.09375 0.046875 10.984375 1.515625 \r\nz\r\nM 30.609375 32.421875 \r\nQ 37.25 32.421875 41.125 36.953125 \r\nQ 45.015625 41.5 45.015625 49.421875 \r\nQ 45.015625 57.28125 41.125 61.84375 \r\nQ 37.25 66.40625 30.609375 66.40625 \r\nQ 23.96875 66.40625 20.09375 61.84375 \r\nQ 16.21875 57.28125 16.21875 49.421875 \r\nQ 16.21875 41.5 20.09375 36.953125 \r\nQ 23.96875 32.421875 30.609375 32.421875 \r\nz\r\n\" id=\"DejaVuSans-57\"/>\r\n     </defs>\r\n     <use xlink:href=\"#DejaVuSans-51\"/>\r\n     <use x=\"63.623047\" xlink:href=\"#DejaVuSans-52\"/>\r\n     <use x=\"127.246094\" xlink:href=\"#DejaVuSans-57\"/>\r\n    </g>\r\n   </g>\r\n   <g id=\"text_24\">\r\n    <!-- 0 -->\r\n    <g style=\"fill:#ffffff;\" transform=\"translate(239.432875 173.039375)scale(0.1 -0.1)\">\r\n     <use xlink:href=\"#DejaVuSans-48\"/>\r\n    </g>\r\n   </g>\r\n   <g id=\"text_25\">\r\n    <!-- 0 -->\r\n    <g style=\"fill:#ffffff;\" transform=\"translate(301.928875 173.039375)scale(0.1 -0.1)\">\r\n     <use xlink:href=\"#DejaVuSans-48\"/>\r\n    </g>\r\n   </g>\r\n   <g id=\"text_26\">\r\n    <!-- 0 -->\r\n    <g style=\"fill:#ffffff;\" transform=\"translate(51.944875 238.271375)scale(0.1 -0.1)\">\r\n     <use xlink:href=\"#DejaVuSans-48\"/>\r\n    </g>\r\n   </g>\r\n   <g id=\"text_27\">\r\n    <!-- 0 -->\r\n    <g style=\"fill:#ffffff;\" transform=\"translate(114.440875 238.271375)scale(0.1 -0.1)\">\r\n     <use xlink:href=\"#DejaVuSans-48\"/>\r\n    </g>\r\n   </g>\r\n   <g id=\"text_28\">\r\n    <!-- 0 -->\r\n    <g style=\"fill:#ffffff;\" transform=\"translate(176.936875 238.271375)scale(0.1 -0.1)\">\r\n     <use xlink:href=\"#DejaVuSans-48\"/>\r\n    </g>\r\n   </g>\r\n   <g id=\"text_29\">\r\n    <!-- 256 -->\r\n    <g style=\"fill:#ffffff;\" transform=\"translate(233.070375 238.271375)scale(0.1 -0.1)\">\r\n     <defs>\r\n      <path d=\"M 10.796875 72.90625 \r\nL 49.515625 72.90625 \r\nL 49.515625 64.59375 \r\nL 19.828125 64.59375 \r\nL 19.828125 46.734375 \r\nQ 21.96875 47.46875 24.109375 47.828125 \r\nQ 26.265625 48.1875 28.421875 48.1875 \r\nQ 40.625 48.1875 47.75 41.5 \r\nQ 54.890625 34.8125 54.890625 23.390625 \r\nQ 54.890625 11.625 47.5625 5.09375 \r\nQ 40.234375 -1.421875 26.90625 -1.421875 \r\nQ 22.3125 -1.421875 17.546875 -0.640625 \r\nQ 12.796875 0.140625 7.71875 1.703125 \r\nL 7.71875 11.625 \r\nQ 12.109375 9.234375 16.796875 8.0625 \r\nQ 21.484375 6.890625 26.703125 6.890625 \r\nQ 35.15625 6.890625 40.078125 11.328125 \r\nQ 45.015625 15.765625 45.015625 23.390625 \r\nQ 45.015625 31 40.078125 35.4375 \r\nQ 35.15625 39.890625 26.703125 39.890625 \r\nQ 22.75 39.890625 18.8125 39.015625 \r\nQ 14.890625 38.140625 10.796875 36.28125 \r\nz\r\n\" id=\"DejaVuSans-53\"/>\r\n     </defs>\r\n     <use xlink:href=\"#DejaVuSans-50\"/>\r\n     <use x=\"63.623047\" xlink:href=\"#DejaVuSans-53\"/>\r\n     <use x=\"127.246094\" xlink:href=\"#DejaVuSans-54\"/>\r\n    </g>\r\n   </g>\r\n   <g id=\"text_30\">\r\n    <!-- 0 -->\r\n    <g style=\"fill:#ffffff;\" transform=\"translate(301.928875 238.271375)scale(0.1 -0.1)\">\r\n     <use xlink:href=\"#DejaVuSans-48\"/>\r\n    </g>\r\n   </g>\r\n   <g id=\"text_31\">\r\n    <!-- 0 -->\r\n    <g style=\"fill:#ffffff;\" transform=\"translate(51.944875 303.503375)scale(0.1 -0.1)\">\r\n     <use xlink:href=\"#DejaVuSans-48\"/>\r\n    </g>\r\n   </g>\r\n   <g id=\"text_32\">\r\n    <!-- 0 -->\r\n    <g style=\"fill:#ffffff;\" transform=\"translate(114.440875 303.503375)scale(0.1 -0.1)\">\r\n     <use xlink:href=\"#DejaVuSans-48\"/>\r\n    </g>\r\n   </g>\r\n   <g id=\"text_33\">\r\n    <!-- 0 -->\r\n    <g style=\"fill:#ffffff;\" transform=\"translate(176.936875 303.503375)scale(0.1 -0.1)\">\r\n     <use xlink:href=\"#DejaVuSans-48\"/>\r\n    </g>\r\n   </g>\r\n   <g id=\"text_34\">\r\n    <!-- 0 -->\r\n    <g style=\"fill:#ffffff;\" transform=\"translate(239.432875 303.503375)scale(0.1 -0.1)\">\r\n     <use xlink:href=\"#DejaVuSans-48\"/>\r\n    </g>\r\n   </g>\r\n   <g id=\"text_35\">\r\n    <!-- 289 -->\r\n    <g style=\"fill:#262626;\" transform=\"translate(295.566375 303.503375)scale(0.1 -0.1)\">\r\n     <defs>\r\n      <path d=\"M 31.78125 34.625 \r\nQ 24.75 34.625 20.71875 30.859375 \r\nQ 16.703125 27.09375 16.703125 20.515625 \r\nQ 16.703125 13.921875 20.71875 10.15625 \r\nQ 24.75 6.390625 31.78125 6.390625 \r\nQ 38.8125 6.390625 42.859375 10.171875 \r\nQ 46.921875 13.96875 46.921875 20.515625 \r\nQ 46.921875 27.09375 42.890625 30.859375 \r\nQ 38.875 34.625 31.78125 34.625 \r\nz\r\nM 21.921875 38.8125 \r\nQ 15.578125 40.375 12.03125 44.71875 \r\nQ 8.5 49.078125 8.5 55.328125 \r\nQ 8.5 64.0625 14.71875 69.140625 \r\nQ 20.953125 74.21875 31.78125 74.21875 \r\nQ 42.671875 74.21875 48.875 69.140625 \r\nQ 55.078125 64.0625 55.078125 55.328125 \r\nQ 55.078125 49.078125 51.53125 44.71875 \r\nQ 48 40.375 41.703125 38.8125 \r\nQ 48.828125 37.15625 52.796875 32.3125 \r\nQ 56.78125 27.484375 56.78125 20.515625 \r\nQ 56.78125 9.90625 50.3125 4.234375 \r\nQ 43.84375 -1.421875 31.78125 -1.421875 \r\nQ 19.734375 -1.421875 13.25 4.234375 \r\nQ 6.78125 9.90625 6.78125 20.515625 \r\nQ 6.78125 27.484375 10.78125 32.3125 \r\nQ 14.796875 37.15625 21.921875 38.8125 \r\nz\r\nM 18.3125 54.390625 \r\nQ 18.3125 48.734375 21.84375 45.5625 \r\nQ 25.390625 42.390625 31.78125 42.390625 \r\nQ 38.140625 42.390625 41.71875 45.5625 \r\nQ 45.3125 48.734375 45.3125 54.390625 \r\nQ 45.3125 60.0625 41.71875 63.234375 \r\nQ 38.140625 66.40625 31.78125 66.40625 \r\nQ 25.390625 66.40625 21.84375 63.234375 \r\nQ 18.3125 60.0625 18.3125 54.390625 \r\nz\r\n\" id=\"DejaVuSans-56\"/>\r\n     </defs>\r\n     <use xlink:href=\"#DejaVuSans-50\"/>\r\n     <use x=\"63.623047\" xlink:href=\"#DejaVuSans-56\"/>\r\n     <use x=\"127.246094\" xlink:href=\"#DejaVuSans-57\"/>\r\n    </g>\r\n   </g>\r\n  </g>\r\n  <g id=\"axes_2\">\r\n   <g id=\"patch_3\">\r\n    <path clip-path=\"url(#pd5bc1eb192)\" d=\"M 355.888125 333.36 \r\nL 355.888125 332.085937 \r\nL 355.888125 8.474063 \r\nL 355.888125 7.2 \r\nL 372.196125 7.2 \r\nL 372.196125 8.474063 \r\nL 372.196125 332.085937 \r\nL 372.196125 333.36 \r\nz\r\n\" style=\"fill:#ffffff;stroke:#ffffff;stroke-linejoin:miter;stroke-width:0.01;\"/>\r\n   </g>\r\n   <image height=\"326\" id=\"imagec288d7de6b\" transform=\"scale(1 -1)translate(0 -326)\" width=\"16\" x=\"356\" xlink:href=\"data:image/png;base64,\r\niVBORw0KGgoAAAANSUhEUgAAABAAAAFGCAYAAABjUx8/AAABu0lEQVR4nO2a0Q3DQAhDobku0f33TId4luxD3H8s8zAkadPP9/cWOKfJ1VV1upmEQKCYwAddXYoSPvcz4CVgiJABdrAQIyDSWfB3QRAkdxsVDhiGEUEasNYXor8E/z6YsNICgmRngB1QAcVahwL3j3PCKw+Osp0BVViICogJO5GdhCdVLsDOBAb2G0vANAq6YHYQANGexIAnVXsOIlYaFEjoAjszkshOAgP0L9MUiFjA/oABBQQQaZAmMMACC1GwUNwrLYDBBimDAbOASwhIIof4MggjGNwfpMYlUAeCNg5IIu6CnQGcpoAkNnxEUUCEDAQ/iVIHAyDiKC8DzACXILg3wtuzACJ34IbIkwg9BDCYECQooPgCggpwBtRBQBKxgBkiZ1D+jeQWEEB0l4AdBAyTACL8hyMBormEU9QBLSFgGkcwwEFyf9hGHURAZCY2iVWn4J1lQpDaHiTahQCI/mkcANGeRMUrjz0HGKL9W13BMNm7EDCNkAF/X7ifgX2YsIOIlWYX2JU2Yhr9SRwA0c1gV9qMIHU/ZgcbpIwg0RwsxIRhcnchYhrNUY5Y6zuN9hz42xiQRPs4YwZ/ztQuS6ONcUwAAAAASUVORK5CYII=\" y=\"-7\"/>\r\n   <g id=\"matplotlib.axis_3\"/>\r\n   <g id=\"matplotlib.axis_4\">\r\n    <g id=\"ytick_6\">\r\n     <g id=\"line2d_11\">\r\n      <defs>\r\n       <path d=\"M 0 0 \r\nL 3.5 0 \r\n\" id=\"m6b163c85d6\" style=\"stroke:#000000;stroke-width:0.8;\"/>\r\n      </defs>\r\n      <g>\r\n       <use style=\"stroke:#000000;stroke-width:0.8;\" x=\"372.196125\" xlink:href=\"#m6b163c85d6\" y=\"333.36\"/>\r\n      </g>\r\n     </g>\r\n     <g id=\"text_36\">\r\n      <!-- 0 -->\r\n      <g transform=\"translate(379.196125 337.159219)scale(0.1 -0.1)\">\r\n       <use xlink:href=\"#DejaVuSans-48\"/>\r\n      </g>\r\n     </g>\r\n    </g>\r\n    <g id=\"ytick_7\">\r\n     <g id=\"line2d_12\">\r\n      <g>\r\n       <use style=\"stroke:#000000;stroke-width:0.8;\" x=\"372.196125\" xlink:href=\"#m6b163c85d6\" y=\"286.632206\"/>\r\n      </g>\r\n     </g>\r\n     <g id=\"text_37\">\r\n      <!-- 50 -->\r\n      <g transform=\"translate(379.196125 290.431425)scale(0.1 -0.1)\">\r\n       <use xlink:href=\"#DejaVuSans-53\"/>\r\n       <use x=\"63.623047\" xlink:href=\"#DejaVuSans-48\"/>\r\n      </g>\r\n     </g>\r\n    </g>\r\n    <g id=\"ytick_8\">\r\n     <g id=\"line2d_13\">\r\n      <g>\r\n       <use style=\"stroke:#000000;stroke-width:0.8;\" x=\"372.196125\" xlink:href=\"#m6b163c85d6\" y=\"239.904413\"/>\r\n      </g>\r\n     </g>\r\n     <g id=\"text_38\">\r\n      <!-- 100 -->\r\n      <g transform=\"translate(379.196125 243.703631)scale(0.1 -0.1)\">\r\n       <use xlink:href=\"#DejaVuSans-49\"/>\r\n       <use x=\"63.623047\" xlink:href=\"#DejaVuSans-48\"/>\r\n       <use x=\"127.246094\" xlink:href=\"#DejaVuSans-48\"/>\r\n      </g>\r\n     </g>\r\n    </g>\r\n    <g id=\"ytick_9\">\r\n     <g id=\"line2d_14\">\r\n      <g>\r\n       <use style=\"stroke:#000000;stroke-width:0.8;\" x=\"372.196125\" xlink:href=\"#m6b163c85d6\" y=\"193.176619\"/>\r\n      </g>\r\n     </g>\r\n     <g id=\"text_39\">\r\n      <!-- 150 -->\r\n      <g transform=\"translate(379.196125 196.975838)scale(0.1 -0.1)\">\r\n       <use xlink:href=\"#DejaVuSans-49\"/>\r\n       <use x=\"63.623047\" xlink:href=\"#DejaVuSans-53\"/>\r\n       <use x=\"127.246094\" xlink:href=\"#DejaVuSans-48\"/>\r\n      </g>\r\n     </g>\r\n    </g>\r\n    <g id=\"ytick_10\">\r\n     <g id=\"line2d_15\">\r\n      <g>\r\n       <use style=\"stroke:#000000;stroke-width:0.8;\" x=\"372.196125\" xlink:href=\"#m6b163c85d6\" y=\"146.448825\"/>\r\n      </g>\r\n     </g>\r\n     <g id=\"text_40\">\r\n      <!-- 200 -->\r\n      <g transform=\"translate(379.196125 150.248044)scale(0.1 -0.1)\">\r\n       <use xlink:href=\"#DejaVuSans-50\"/>\r\n       <use x=\"63.623047\" xlink:href=\"#DejaVuSans-48\"/>\r\n       <use x=\"127.246094\" xlink:href=\"#DejaVuSans-48\"/>\r\n      </g>\r\n     </g>\r\n    </g>\r\n    <g id=\"ytick_11\">\r\n     <g id=\"line2d_16\">\r\n      <g>\r\n       <use style=\"stroke:#000000;stroke-width:0.8;\" x=\"372.196125\" xlink:href=\"#m6b163c85d6\" y=\"99.721032\"/>\r\n      </g>\r\n     </g>\r\n     <g id=\"text_41\">\r\n      <!-- 250 -->\r\n      <g transform=\"translate(379.196125 103.52025)scale(0.1 -0.1)\">\r\n       <use xlink:href=\"#DejaVuSans-50\"/>\r\n       <use x=\"63.623047\" xlink:href=\"#DejaVuSans-53\"/>\r\n       <use x=\"127.246094\" xlink:href=\"#DejaVuSans-48\"/>\r\n      </g>\r\n     </g>\r\n    </g>\r\n    <g id=\"ytick_12\">\r\n     <g id=\"line2d_17\">\r\n      <g>\r\n       <use style=\"stroke:#000000;stroke-width:0.8;\" x=\"372.196125\" xlink:href=\"#m6b163c85d6\" y=\"52.993238\"/>\r\n      </g>\r\n     </g>\r\n     <g id=\"text_42\">\r\n      <!-- 300 -->\r\n      <g transform=\"translate(379.196125 56.792457)scale(0.1 -0.1)\">\r\n       <use xlink:href=\"#DejaVuSans-51\"/>\r\n       <use x=\"63.623047\" xlink:href=\"#DejaVuSans-48\"/>\r\n       <use x=\"127.246094\" xlink:href=\"#DejaVuSans-48\"/>\r\n      </g>\r\n     </g>\r\n    </g>\r\n   </g>\r\n   <g id=\"patch_4\">\r\n    <path d=\"M 355.888125 333.36 \r\nL 355.888125 332.085937 \r\nL 355.888125 8.474063 \r\nL 355.888125 7.2 \r\nL 372.196125 7.2 \r\nL 372.196125 8.474063 \r\nL 372.196125 332.085937 \r\nL 372.196125 333.36 \r\nz\r\n\" style=\"fill:none;\"/>\r\n   </g>\r\n  </g>\r\n </g>\r\n <defs>\r\n  <clipPath id=\"p35af892129\">\r\n   <rect height=\"326.16\" width=\"312.48\" x=\"23.878125\" y=\"7.2\"/>\r\n  </clipPath>\r\n  <clipPath id=\"pd5bc1eb192\">\r\n   <rect height=\"326.16\" width=\"16.308\" x=\"355.888125\" y=\"7.2\"/>\r\n  </clipPath>\r\n </defs>\r\n</svg>\r\n",
            "image/png": "[encoded data removed]"
          },
          "metadata": {
            "needs_background": "light"
          }
        },
        {
          "output_type": "stream",
          "name": "stdout",
          "text": [
            "Classification Report\n              precision    recall  f1-score   support\n\n           0       1.00      1.00      1.00       346\n           1       1.00      1.00      1.00       336\n           2       1.00      1.00      1.00       349\n           3       1.00      1.00      1.00       256\n           4       1.00      1.00      1.00       289\n\n    accuracy                           1.00      1576\n   macro avg       1.00      1.00      1.00      1576\nweighted avg       1.00      1.00      1.00      1576\n\n"
          ]
        }
      ]
    },
    {
      "cell_type": "markdown",
      "metadata": {
        "id": "FNP6aqzc9hE5"
      },
      "source": [
        "# Convert to model for Tensorflow-Lite"
      ]
    },
    {
      "cell_type": "code",
      "metadata": {
        "id": "ODjnYyld9hE6"
      },
      "source": [
        "# Save as a model dedicated to inference\n",
        "model.save(model_save_path, include_optimizer=False)"
      ],
      "execution_count": 16,
      "outputs": []
    },
    {
      "cell_type": "code",
      "metadata": {
        "id": "zRfuK8Y59hE6",
        "colab": {
          "base_uri": "https://localhost:8080/"
        },
        "outputId": "a4ca585c-b5d5-4244-8291-8674063209bb"
      },
      "source": [
        "# Transform model (quantization)\n",
        "\n",
        "converter = tf.lite.TFLiteConverter.from_keras_model(model)\n",
        "converter.optimizations = [tf.lite.Optimize.DEFAULT]\n",
        "tflite_quantized_model = converter.convert()\n",
        "\n",
        "open(tflite_save_path, 'wb').write(tflite_quantized_model)"
      ],
      "execution_count": 17,
      "outputs": [
        {
          "output_type": "stream",
          "name": "stdout",
          "text": [
            "INFO:tensorflow:Assets written to: C:\\Users\\ZEINCH~1\\AppData\\Local\\Temp\\tmpp8yz2lix\\assets\n"
          ]
        },
        {
          "output_type": "execute_result",
          "data": {
            "text/plain": [
              "6400"
            ]
          },
          "metadata": {},
          "execution_count": 17
        }
      ]
    },
    {
      "cell_type": "markdown",
      "metadata": {
        "id": "CHBPBXdx9hE6"
      },
      "source": [
        "# Inference test"
      ]
    },
    {
      "cell_type": "code",
      "metadata": {
        "id": "mGAzLocO9hE7"
      },
      "source": [
        "interpreter = tf.lite.Interpreter(model_path=tflite_save_path)\n",
        "interpreter.allocate_tensors()"
      ],
      "execution_count": 18,
      "outputs": []
    },
    {
      "cell_type": "code",
      "metadata": {
        "id": "oQuDK8YS9hE7"
      },
      "source": [
        "# Get I / O tensor\n",
        "input_details = interpreter.get_input_details()\n",
        "output_details = interpreter.get_output_details()"
      ],
      "execution_count": 19,
      "outputs": []
    },
    {
      "cell_type": "code",
      "metadata": {
        "id": "2_ixAf_l9hE7"
      },
      "source": [
        "interpreter.set_tensor(input_details[0]['index'], np.array([X_test[0]]))"
      ],
      "execution_count": 20,
      "outputs": []
    },
    {
      "cell_type": "code",
      "metadata": {
        "scrolled": true,
        "id": "s4FoAnuc9hE7",
        "colab": {
          "base_uri": "https://localhost:8080/"
        },
        "outputId": "91f18257-8d8b-4ef3-c558-e9b5f94fabbf"
      },
      "source": [
        "%%time\n",
        "# Inference implementation\n",
        "interpreter.invoke()\n",
        "tflite_results = interpreter.get_tensor(output_details[0]['index'])"
      ],
      "execution_count": 21,
      "outputs": [
        {
          "output_type": "stream",
          "name": "stdout",
          "text": [
            "Wall time: 0 ns\n"
          ]
        }
      ]
    },
    {
      "cell_type": "code",
      "metadata": {
        "id": "vONjp19J9hE8",
        "colab": {
          "base_uri": "https://localhost:8080/"
        },
        "outputId": "77205e24-fd00-42c4-f7b6-e06e527c2cba"
      },
      "source": [
        "print(np.squeeze(tflite_results))\n",
        "print(np.argmax(np.squeeze(tflite_results)))"
      ],
      "execution_count": 22,
      "outputs": [
        {
          "output_type": "stream",
          "name": "stdout",
          "text": [
            "[4.2746942e-02 9.5445842e-01 9.0139711e-06 2.5126743e-03 2.7290679e-04]\n1\n"
          ]
        }
      ]
    }
  ]
}